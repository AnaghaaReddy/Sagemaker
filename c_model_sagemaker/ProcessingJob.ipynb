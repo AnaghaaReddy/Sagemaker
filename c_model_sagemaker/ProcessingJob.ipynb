{
 "cells": [
  {
   "cell_type": "code",
   "execution_count": 3,
   "id": "977b48ba",
   "metadata": {},
   "outputs": [
    {
     "name": "stderr",
     "output_type": "stream",
     "text": [
      "INFO:botocore.credentials:Found credentials from IAM Role: BaseNotebookInstanceEc2InstanceRole\n",
      "INFO:botocore.credentials:Found credentials from IAM Role: BaseNotebookInstanceEc2InstanceRole\n"
     ]
    },
    {
     "name": "stdout",
     "output_type": "stream",
     "text": [
      "Input data: s3://sagemaker-c/input-data/input_data.csv\n",
      "Output location: s3://sagemaker-c/output-data/\n"
     ]
    },
    {
     "name": "stderr",
     "output_type": "stream",
     "text": [
      "INFO:sagemaker:Creating processing-job with name run-exe-processing-2024-11-07-05-03-21-513\n"
     ]
    },
    {
     "name": "stdout",
     "output_type": "stream",
     "text": [
      "...........\u001b[34m2024-11-07 05:05:13,083 - INFO - Input Data: \n",
      "   0  1\u001b[0m\n",
      "\u001b[34m0  6  7\u001b[0m\n",
      "\u001b[34m1  5  6\u001b[0m\n",
      "\u001b[34m2  5  6\u001b[0m\n",
      "\u001b[34m3  0  9\u001b[0m\n",
      "\u001b[34m4  0  9\u001b[0m\n",
      "\u001b[34m5  0  9\u001b[0m\n",
      "\u001b[34m6  0  9\u001b[0m\n",
      "\u001b[34m7  0  9\u001b[0m\n",
      "\u001b[34m8  0  9\u001b[0m\n",
      "\u001b[34m9  5  6\u001b[0m\n",
      "\u001b[34m2024-11-07 05:05:13,085 - INFO - Output Data: \u001b[0m\n",
      "\u001b[34m0    13\u001b[0m\n",
      "\u001b[34m1    11\u001b[0m\n",
      "\u001b[34m2    11\u001b[0m\n",
      "\u001b[34m3     9\u001b[0m\n",
      "\u001b[34m4     9\u001b[0m\n",
      "\u001b[34m5     9\u001b[0m\n",
      "\u001b[34m6     9\u001b[0m\n",
      "\u001b[34m7     9\u001b[0m\n",
      "\u001b[34m8     9\u001b[0m\n",
      "\u001b[34m9    11\u001b[0m\n",
      "\u001b[34mdtype: int64\u001b[0m\n",
      "\n",
      "Processing job has been initiated.\n"
     ]
    }
   ],
   "source": [
    "import boto3\n",
    "import os\n",
    "from sagemaker import get_execution_role\n",
    "from sagemaker.processing import ScriptProcessor, ProcessingInput, ProcessingOutput\n",
    "\n",
    "# Specify the role and ECR image URI\n",
    "role = get_execution_role()\n",
    "image_uri = '665764469544.dkr.ecr.eu-north-1.amazonaws.com/cpp_processing_1:latest'  # Ensure image contains both C++ and Python scripts\n",
    "\n",
    "# Create the ScriptProcessor instance\n",
    "script_processor = ScriptProcessor(\n",
    "    command=['python3'],\n",
    "    image_uri=image_uri,\n",
    "    role=role,\n",
    "    instance_count=1,\n",
    "    base_job_name='run-exe-processing',\n",
    "    instance_type='ml.t3.xlarge'\n",
    ")\n",
    "\n",
    "# Specify input data S3 path\n",
    "input_data = 's3://sagemaker-c/input-data/input_data.csv'\n",
    "\n",
    "# Specify output location S3 path\n",
    "output_location = 's3://sagemaker-c/output-data/'\n",
    "\n",
    "# Log the details for debugging\n",
    "print(f\"Input data: {input_data}\")\n",
    "print(f\"Output location: {output_location}\")\n",
    "\n",
    "# Run the processing job\n",
    "script_processor.run(\n",
    "    code='process_script.py',  # Make sure this script uses the correct path for `a.out`\n",
    "    inputs=[ProcessingInput(\n",
    "        source=input_data,\n",
    "        destination='/opt/ml/processing/input'\n",
    "    )],\n",
    "    outputs=[ProcessingOutput(\n",
    "        source='/opt/ml/processing/output',\n",
    "        destination=output_location\n",
    "    )]\n",
    ")\n",
    "\n",
    "print(\"Processing job has been initiated.\")\n"
   ]
  },
  {
   "cell_type": "code",
   "execution_count": 10,
   "id": "51cbe98f",
   "metadata": {},
   "outputs": [
    {
     "name": "stderr",
     "output_type": "stream",
     "text": [
      "INFO:botocore.credentials:Found credentials from IAM Role: BaseNotebookInstanceEc2InstanceRole\n",
      "INFO:botocore.credentials:Found credentials from IAM Role: BaseNotebookInstanceEc2InstanceRole\n"
     ]
    },
    {
     "name": "stdout",
     "output_type": "stream",
     "text": [
      "Input data: s3://sagemaker-c/input-data/input_data.csv\n",
      "Output location: s3://sagemaker-c/output-data/\n"
     ]
    },
    {
     "name": "stderr",
     "output_type": "stream",
     "text": [
      "INFO:sagemaker:Creating processing-job with name run-exe-processing-2024-11-07-09-20-14-451\n"
     ]
    },
    {
     "name": "stdout",
     "output_type": "stream",
     "text": [
      "..............\u001b[34m2024-11-07 09:22:29,155 - INFO - Reading Input Data from: /opt/ml/processing/input/input_data.csv\u001b[0m\n",
      "\u001b[34m2024-11-07 09:22:29,156 - INFO - Input Data:\u001b[0m\n",
      "\u001b[34m6,7\u001b[0m\n",
      "\u001b[34m5,6\u001b[0m\n",
      "\u001b[34m5,6\u001b[0m\n",
      "\u001b[34m0,9\u001b[0m\n",
      "\u001b[34m0,9\u001b[0m\n",
      "\u001b[34m0,9\u001b[0m\n",
      "\u001b[34m0,9\u001b[0m\n",
      "\u001b[34m0,9\u001b[0m\n",
      "\u001b[34m0,9\u001b[0m\n",
      "\u001b[34m5,6\u001b[0m\n",
      "\u001b[34m2024-11-07 09:22:29,156 - INFO - a.out exists and is executable.\u001b[0m\n",
      "\u001b[34m2024-11-07 09:22:29,161 - INFO - Result from C++ execution:\u001b[0m\n",
      "\u001b[34m13,11,11,9,9,9,9,9,9,11\u001b[0m\n",
      "\u001b[34m2024-11-07 09:22:29,162 - INFO - Output Data:\u001b[0m\n",
      "\u001b[34m13,11,11,9,9,9,9,9,9,11\u001b[0m\n",
      "\n",
      "Processing job has been initiated.\n"
     ]
    }
   ],
   "source": [
    "import boto3\n",
    "import os\n",
    "from sagemaker import get_execution_role\n",
    "from sagemaker.processing import ScriptProcessor, ProcessingInput, ProcessingOutput\n",
    "\n",
    "# Specify the role and ECR image URI\n",
    "role = get_execution_role()\n",
    "image_uri = '665764469544.dkr.ecr.eu-north-1.amazonaws.com/cpp_processing_1:latest'  # Ensure image contains both C++ and Python scripts\n",
    "\n",
    "# Create the ScriptProcessor instance\n",
    "script_processor = ScriptProcessor(\n",
    "    command=['python3'],\n",
    "    image_uri=image_uri,\n",
    "    role=role,\n",
    "    instance_count=1,\n",
    "    base_job_name='run-exe-processing',\n",
    "    instance_type='ml.t3.xlarge'\n",
    ")\n",
    "\n",
    "# Specify input data S3 path\n",
    "input_data = 's3://sagemaker-c/input-data/input_data.csv'\n",
    "\n",
    "# Specify output location S3 path\n",
    "output_location = 's3://sagemaker-c/output-data/'\n",
    "\n",
    "# Log the details for debugging\n",
    "print(f\"Input data: {input_data}\")\n",
    "print(f\"Output location: {output_location}\")\n",
    "\n",
    "# Run the processing job\n",
    "script_processor.run(\n",
    "    code='process_script.py',  # Make sure this script uses the correct path for `a.out`\n",
    "    inputs=[ProcessingInput(\n",
    "        source=input_data,\n",
    "        destination='/opt/ml/processing/input'\n",
    "    )],\n",
    "    outputs=[ProcessingOutput(\n",
    "        source='/opt/ml/processing/output',\n",
    "        destination=output_location\n",
    "    )]\n",
    ")\n",
    "\n",
    "print(\"Processing job has been initiated.\")\n"
   ]
  },
  {
   "cell_type": "code",
   "execution_count": null,
   "id": "34d6f58f",
   "metadata": {},
   "outputs": [],
   "source": []
  }
 ],
 "metadata": {
  "kernelspec": {
   "display_name": "conda_python3",
   "language": "python",
   "name": "conda_python3"
  },
  "language_info": {
   "codemirror_mode": {
    "name": "ipython",
    "version": 3
   },
   "file_extension": ".py",
   "mimetype": "text/x-python",
   "name": "python",
   "nbconvert_exporter": "python",
   "pygments_lexer": "ipython3",
   "version": "3.10.15"
  }
 },
 "nbformat": 4,
 "nbformat_minor": 5
}
